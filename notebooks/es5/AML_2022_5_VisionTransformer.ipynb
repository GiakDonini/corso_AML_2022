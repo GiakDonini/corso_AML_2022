{
  "cells": [
    {
      "cell_type": "markdown",
      "metadata": {
        "id": "view-in-github",
        "colab_type": "text"
      },
      "source": [
        "<a href=\"https://colab.research.google.com/github/stefanogiagu/corso_AML_2022/blob/main/notebooks/es5/AML_2022_5_VisionTransformer.ipynb\" target=\"_parent\"><img src=\"https://colab.research.google.com/assets/colab-badge.svg\" alt=\"Open In Colab\"/></a>"
      ]
    },
    {
      "cell_type": "markdown",
      "metadata": {
        "id": "uz5n18BbS4Ec"
      },
      "source": [
        "# Advanced Machine Learning for Physics 2021-2022\n",
        "## Hands-on session 5\n",
        "\n",
        "In this session, we will try to implement the new trend in image classification for the hadronic jet classification task: Transformers for Computer Vision. Since Alexey Dosovitskiy et al. successfully applied a Transformer on a variety of image recognition benchmarks, there have been an incredible amount of follow-up works showing that CNNs might not be optimal architecture for Computer Vision anymore. \n",
        "\n",
        "Remember, in this case the comparison between CNN and transformers is not fair. CNNs have been built to leverage our priors information on how images are structured while transformers need have to learn all these invariances from data.\n",
        "In general transformer will be competitive with CNN on large dataset or with pre-training.\n",
        "\n",
        "We will try to check for those differences  by implementing a Vision Transformer ourselves and train it on the datasetthat we saw in Session 3:\n",
        "\n",
        "\n",
        "At the extreme energies of the Large Hadron Collider, massive particles can be produced with such high Lorentz boost that their decays into hadrons (hadron jets) are collimated in such a way that the resulting particles overlap. Deducing whether the substructure of an observed jet is due to a single low-mass particle or to multiple decay objects of a high-mass particle is an important problem in LHC data analysis. Traditional approaches are based on high-level observables built from theoretical models of energy deposition in calorimeters, but the complexity of the data makes this task an excellent candidate for the application of deep learning tools. The data collected by the detector can in fact be represented as a two-dimensional image, lending itself to the natural application of image classification techniques.\n",
        "\n",
        "A description of the dataset and classification results obtained with standard supervised techniques are available [here](https://journals.aps.org/prd/abstract/10.1103/PhysRevD.93.094034).\n",
        "\n",
        "A reduced size dataset is available in the github folder:\n",
        "[dataset](https://github.com/stefanogiagu/corso_AML_2022/tree/main/notebooks/es3). \n",
        "\n",
        "Based on a modified version of several examples available in the web and on the original paper: \n",
        "\n",
        "[Dosovitskiy et al., AN IMAGE IS WORTH 16X16 WORDS:TRANSFORMERS FOR IMAGE RECOGNITION AT SCALE](https://arxiv.org/pdf/2010.11929.pdf).\n",
        "\n",
        "The architecture used is derived from this paper:\n",
        "[Xiong et al., On Layer Normalization in the Transformer Architecture](http://proceedings.mlr.press/v119/xiong20b/xiong20b.pdf).\n",
        "\n",
        "\n",
        "Andrea e Stefano - v1.0 - 2.4.2022"
      ]
    },
    {
      "cell_type": "code",
      "source": [
        "from google.colab import drive\n",
        "drive.mount('/content/drive/')\n",
        "%cd /content/drive/MyDrive/Colab\\ Notebooks/es5\n"
      ],
      "metadata": {
        "colab": {
          "base_uri": "https://localhost:8080/"
        },
        "id": "douXx6JLquFf",
        "outputId": "24b57e5d-0a40-43d4-8e87-3f02fa646025"
      },
      "execution_count": 1,
      "outputs": [
        {
          "output_type": "stream",
          "name": "stdout",
          "text": [
            "Drive already mounted at /content/drive/; to attempt to forcibly remount, call drive.mount(\"/content/drive/\", force_remount=True).\n",
            "/content/drive/MyDrive/Colab Notebooks/es5\n"
          ]
        }
      ]
    },
    {
      "cell_type": "markdown",
      "metadata": {
        "id": "F4bYFRuhYGv8"
      },
      "source": [
        "**Read dataset and preporcess it**"
      ]
    },
    {
      "cell_type": "code",
      "execution_count": 2,
      "metadata": {
        "colab": {
          "base_uri": "https://localhost:8080/",
          "height": 404
        },
        "id": "mnGcflE1uRVR",
        "outputId": "5b45f8c0-e70c-48ce-9cf7-5c60c71cf544"
      },
      "outputs": [
        {
          "output_type": "stream",
          "name": "stdout",
          "text": [
            "data shape:  (20000, 32, 32)\n",
            "(20000,)\n"
          ]
        },
        {
          "output_type": "display_data",
          "data": {
            "text/plain": [
              "<Figure size 360x360 with 4 Axes>"
            ],
            "image/png": "[encoded data removed]"
          },
          "metadata": {
            "needs_background": "light"
          }
        }
      ],
      "source": [
        "# jet images, 32x32 pixels (eta, phi) plane, with energy deposit on each calorimetric cell\n",
        "# targets: binary label 0, 1, nornmal and merged jet\n",
        "\n",
        "import numpy as np\n",
        "import torch\n",
        "import torch.nn as nn\n",
        "import torch.nn.functional as F\n",
        "import torch.utils.data as data\n",
        "import torch.optim as optim\n",
        "\n",
        "\n",
        "with np.load('simCLR_dataset.npz') as f:\n",
        "    train_features = f['train_features']\n",
        "    train_targets = f['train_targets']\n",
        "\n",
        "print(\"data shape: \",train_features.shape)\n",
        "print(train_targets.shape)\n",
        "\n",
        "import matplotlib.pyplot as plt\n",
        "\n",
        "plt.figure(figsize=(5,5))\n",
        "for i in range(4):\n",
        "  ax = plt.subplot(2, 2, i+1)\n",
        "  ax.imshow(train_features[i], cmap='Blues')\n",
        "  ax.set_title(train_targets[i])\n",
        "  ax.get_xaxis().set_visible(False)\n",
        "  ax.get_yaxis().set_visible(False)\n",
        "\n",
        "plt.tight_layout()"
      ]
    },
    {
      "cell_type": "markdown",
      "metadata": {
        "id": "3SBqjkuSpXzb"
      },
      "source": [
        "## Data is not similar to \"real natural images \" Check the distribution of values!\n"
      ]
    },
    {
      "cell_type": "code",
      "execution_count": 3,
      "metadata": {
        "colab": {
          "base_uri": "https://localhost:8080/",
          "height": 316
        },
        "id": "uKgBErbIpXzd",
        "outputId": "dea4656d-f594-4096-8bb3-ed9bdc942764"
      },
      "outputs": [
        {
          "output_type": "stream",
          "name": "stdout",
          "text": [
            "maximun value :  399.883\n"
          ]
        },
        {
          "output_type": "display_data",
          "data": {
            "text/plain": [
              "<Figure size 432x288 with 1 Axes>"
            ],
            "image/png": "[encoded data removed]"
          },
          "metadata": {
            "needs_background": "light"
          }
        }
      ],
      "source": [
        "n_bin = 128\n",
        "print(\"maximun value : \",np.max(train_features))\n",
        "logbins = np.geomspace(train_features[train_features>0].min(), train_features.max(), n_bin)\n",
        "plt.figure(111)\n",
        "plt.hist(train_features.ravel(), bins=logbins,density=True)\n",
        "plt.xscale('log')\n",
        "plt.ylabel(\"pdf\")\n",
        "plt.xlabel(\"Intensities (log)\")\n",
        "plt.title(\"Histogram of log intensities\")\n",
        "plt.show()"
      ]
    },
    {
      "cell_type": "markdown",
      "metadata": {
        "id": "6GKhn15RpXzh"
      },
      "source": [
        "## To visualize the rich structure of the data is better to show the logbins"
      ]
    },
    {
      "cell_type": "code",
      "execution_count": 4,
      "metadata": {
        "colab": {
          "base_uri": "https://localhost:8080/",
          "height": 369
        },
        "id": "C0FGMuyopXzi",
        "outputId": "0315ce47-0549-4cbe-cac3-ca9027e43834"
      },
      "outputs": [
        {
          "output_type": "display_data",
          "data": {
            "text/plain": [
              "<Figure size 360x360 with 4 Axes>"
            ],
            "image/png": "[encoded data removed]"
          },
          "metadata": {
            "needs_background": "light"
          }
        }
      ],
      "source": [
        "\n",
        "\n",
        "plt.figure(figsize=(5,5))\n",
        "for i in range(4):\n",
        "  ax = plt.subplot(2, 2, i+1)\n",
        "  ax.imshow(np.digitize(train_features[i],logbins)/n_bin, cmap='Blues')\n",
        "  ax.set_title(train_targets[i])\n",
        "  ax.get_xaxis().set_visible(False)\n",
        "  ax.get_yaxis().set_visible(False)\n",
        "\n",
        "plt.tight_layout()"
      ]
    },
    {
      "cell_type": "code",
      "execution_count": 5,
      "metadata": {
        "colab": {
          "base_uri": "https://localhost:8080/"
        },
        "id": "3h3ZK-YDupfY",
        "outputId": "bd92db66-3a75-4030-9e98-ccd561fb3dee"
      },
      "outputs": [
        {
          "output_type": "stream",
          "name": "stdout",
          "text": [
            "1.10.0+cu111\n",
            "0.11.1+cu111\n"
          ]
        }
      ],
      "source": [
        "# some useful libs\n",
        "import numpy as np\n",
        "import matplotlib.pyplot as plt\n",
        "from sklearn.model_selection import train_test_split\n",
        "\n",
        "import torch\n",
        "import torchvision\n",
        "print(torch.__version__)\n",
        "print(torchvision.__version__)"
      ]
    },
    {
      "cell_type": "code",
      "execution_count": 6,
      "metadata": {
        "colab": {
          "base_uri": "https://localhost:8080/"
        },
        "id": "EjNHxiStvFm2",
        "outputId": "56aebbcb-0669-4418-ade7-a714bba138ea"
      },
      "outputs": [
        {
          "output_type": "stream",
          "name": "stdout",
          "text": [
            "# of GPUs available:  1\n",
            "First GPU type:  Tesla K80\n",
            "Computation device: cuda\n",
            "\n"
          ]
        }
      ],
      "source": [
        "# define device to use (cpu/gpu)\n",
        "if torch.cuda.is_available():\n",
        "  print('# of GPUs available: ', torch.cuda.device_count())\n",
        "  print('First GPU type: ',torch.cuda.get_device_name(0))\n",
        "device = ('cuda' if torch.cuda.is_available() else 'cpu')\n",
        "print(f\"Computation device: {device}\\n\")"
      ]
    },
    {
      "cell_type": "code",
      "execution_count": 7,
      "metadata": {
        "colab": {
          "base_uri": "https://localhost:8080/"
        },
        "id": "lOR4TGMFvPCB",
        "outputId": "978bfa79-e7f6-49ca-d61f-72c01978b096"
      },
      "outputs": [
        {
          "output_type": "stream",
          "name": "stdout",
          "text": [
            "X_train shape:  (12000, 32, 32, 1)\n",
            "Y_train shape:  (12000,)\n",
            "X_vali shape:  (4000, 32, 32, 1)\n",
            "Y_vali shape:  (4000,)\n",
            "X_test shape:  (4000, 32, 32, 1)\n",
            "Y_test shape:  (4000,)\n"
          ]
        }
      ],
      "source": [
        "# preprocess data: split on training, validation, test\n",
        "# normalize fatures (pixels) in [0,1]\n",
        "\n",
        "from sklearn.preprocessing import MinMaxScaler ,StandardScaler\n",
        "\n",
        "LOG_BINS = False\n",
        "Z_SCORE = True\n",
        "if Z_SCORE:\n",
        "  scaler = StandardScaler()\n",
        "else:\n",
        "  scaler = MinMaxScaler()\n",
        "\n",
        "# training, validation, test split\n",
        "from sklearn.model_selection import train_test_split\n",
        "testset_frac = 0.2 # test set fraction wrt whole samples\n",
        "valiset_frac = 0.25 # validation set fraction wrt training+validation\n",
        "\n",
        "X_train,X_test,Y_train,Y_test = train_test_split(train_features,train_targets,test_size=testset_frac, shuffle=True, random_state=1234)\n",
        "X_train,X_vali,Y_train,Y_vali = train_test_split(X_train,Y_train,test_size=valiset_frac, shuffle=True, random_state=1234)\n",
        "\n",
        "X_train = X_train.reshape(X_train.shape[0],32*32)\n",
        "X_vali = X_vali.reshape(X_vali.shape[0],32*32)\n",
        "X_test = X_test.reshape(X_test.shape[0],32*32)\n",
        "\n",
        "if LOG_BINS:\n",
        "    n_bin = 256\n",
        "    logbins = np.geomspace(X_train[X_train>0].min(), X_train.max(), n_bin)\n",
        "    X_train = np.digitize(X_train,logbins)\n",
        "    X_vali = np.digitize(X_vali,logbins)\n",
        "    X_test = np.digitize(X_test,logbins)\n",
        "    scaler.fit(X_train)\n",
        "    X_train = scaler.transform(X_train)\n",
        "    X_vali = scaler.transform(X_vali)\n",
        "    X_test = scaler.transform(X_test)\n",
        "\n",
        "else:\n",
        "    scaler.fit(X_train)\n",
        "    X_train = scaler.transform(X_train)\n",
        "    X_vali = scaler.transform(X_vali)\n",
        "    X_test = scaler.transform(X_test)\n",
        "\n",
        "    \n",
        "X_train = X_train.reshape(X_train.shape[0],32,32)\n",
        "X_vali = X_vali.reshape(X_vali.shape[0],32,32)\n",
        "X_test = X_test.reshape(X_test.shape[0],32,32)\n",
        "\n",
        "X_train = np.expand_dims(X_train, -1)\n",
        "X_vali = np.expand_dims(X_vali, -1)\n",
        "X_test = np.expand_dims(X_test, -1)\n",
        "\n",
        "print('X_train shape: ',X_train.shape)\n",
        "print('Y_train shape: ',Y_train.shape)\n",
        "print('X_vali shape: ',X_vali.shape)\n",
        "print('Y_vali shape: ',Y_vali.shape)\n",
        "print('X_test shape: ',X_test.shape)\n",
        "print('Y_test shape: ',Y_test.shape)"
      ]
    },
    {
      "cell_type": "markdown",
      "metadata": {
        "id": "n2ERjZoepXzp"
      },
      "source": [
        "## Visualize the training set after the normalization"
      ]
    },
    {
      "cell_type": "code",
      "execution_count": 8,
      "metadata": {
        "colab": {
          "base_uri": "https://localhost:8080/",
          "height": 686
        },
        "id": "WK4DrjgKpXzp",
        "outputId": "44e98fd1-c091-4923-f5b6-5335fd55b073"
      },
      "outputs": [
        {
          "output_type": "stream",
          "name": "stdout",
          "text": [
            "X_train max:  109.539955\n",
            "X_train min:  -0.8123182\n"
          ]
        },
        {
          "output_type": "display_data",
          "data": {
            "text/plain": [
              "<Figure size 432x288 with 1 Axes>"
            ],
            "image/png": "[encoded data removed]"
          },
          "metadata": {
            "needs_background": "light"
          }
        },
        {
          "output_type": "display_data",
          "data": {
            "text/plain": [
              "<Figure size 360x360 with 4 Axes>"
            ],
            "image/png": "[encoded data removed]"
          },
          "metadata": {
            "needs_background": "light"
          }
        }
      ],
      "source": [
        "print('X_train max: ',X_train.max())\n",
        "print('X_train min: ',X_train.min())\n",
        "\n",
        "plt.figure(111)\n",
        "if LOG_BINS:\n",
        "  plt.hist(X_train[X_train>0].ravel(),logbins,density=True)\n",
        "else:\n",
        "    plt.hist(X_train[X_train>0].ravel(),density=True)\n",
        "\n",
        "plt.ylabel(\"pdf\")\n",
        "plt.xlabel(\"Intensities (Normalized)\")\n",
        "plt.xscale('log')\n",
        "plt.title(\"Histogram of Train set\")\n",
        "plt.show()\n",
        "\n",
        "plt.figure(figsize=(5,5))\n",
        "for i in range(4):\n",
        "  ax = plt.subplot(2, 2, i+1)\n",
        "  ax.imshow(X_train[i,:,:,0], cmap='Blues')\n",
        "  ax.set_title(Y_train[i])\n",
        "  ax.get_xaxis().set_visible(False)\n",
        "  ax.get_yaxis().set_visible(False)\n",
        "\n",
        "plt.tight_layout()"
      ]
    },
    {
      "cell_type": "code",
      "execution_count": 9,
      "metadata": {
        "colab": {
          "base_uri": "https://localhost:8080/"
        },
        "id": "RazSj3Fbv1L8",
        "outputId": "b7cb8198-e906-4cff-a37d-50ffd10da025"
      },
      "outputs": [
        {
          "output_type": "stream",
          "name": "stdout",
          "text": [
            "torch.Size([12000, 1, 32, 32])\n",
            "torch.Size([12000])\n",
            "torch.Size([4000, 1, 32, 32])\n",
            "torch.Size([4000])\n",
            "torch.Size([4000, 1, 32, 32])\n",
            "torch.Size([4000])\n"
          ]
        }
      ],
      "source": [
        "# transform numpy vectors to pytorch tensors\n",
        "X_train_pt = torch.Tensor(X_train)\n",
        "Y_train_pt = torch.Tensor(Y_train)\n",
        "X_vali_pt = torch.Tensor(X_vali)\n",
        "Y_vali_pt = torch.Tensor(Y_vali)\n",
        "X_test_pt = torch.Tensor(X_test)\n",
        "Y_test_pt = torch.Tensor(Y_test)\n",
        "\n",
        "# switch channel dimension position as needed by pytorch (NOTE: in numpy/keras (dim1,dim2,..., channels) in pytorch (channel, dim1, dim2, ...))\n",
        "X_train_pt = X_train_pt.permute(0,3,1,2)\n",
        "X_vali_pt = X_vali_pt.permute(0,3,1,2)\n",
        "X_test_pt = X_test_pt.permute(0,3,1,2)\n",
        "\n",
        "print(X_train_pt.shape)\n",
        "print(Y_train_pt.shape)\n",
        "print(X_vali_pt.shape)\n",
        "print(Y_vali_pt.shape)\n",
        "print(X_test_pt.shape)\n",
        "print(Y_test_pt.shape)"
      ]
    },
    {
      "cell_type": "markdown",
      "metadata": {
        "id": "-QUxEtUPZiSd"
      },
      "source": [
        "**Data generator definition**\n",
        "\n"
      ]
    },
    {
      "cell_type": "code",
      "execution_count": 10,
      "metadata": {
        "id": "8VATB6tdpXzs"
      },
      "outputs": [],
      "source": [
        "from operator import indexOf\n",
        "# create a custom dataset\n",
        "from torch.utils.data import Dataset, DataLoader\n",
        "import torchvision\n",
        "from torchvision import transforms, utils\n",
        "\n",
        "# custom class that takes an image and outputs n_views random ransformation according to the \n",
        "# base_transforms list \n",
        "class ContrastiveTransformations(object):\n",
        "    def __init__(self, base_transforms):\n",
        "        self.base_transforms = base_transforms\n",
        "        \n",
        "\n",
        "    def __call__(self, x):\n",
        "        return self.base_transforms(x) \n",
        "\n",
        "class JetSubStructure(Dataset):\n",
        "    \"\"\"JetSubstructure dataset.\"\"\"\n",
        "\n",
        "    def __init__(self, data, labels, phase='train', transform=None):\n",
        "        \"\"\"\n",
        "        Args:\n",
        "            data: torch tensor containing images\n",
        "            labels: torch tensor containing associated label\n",
        "            transform (callable, optional): Optional transform to be applied\n",
        "                on a sample.\n",
        "        \"\"\"\n",
        "        self.phase = phase\n",
        "        self.data = data\n",
        "        self.label = labels\n",
        "        self.transform = transform\n",
        "\n",
        "    def __len__(self):\n",
        "        return len(self.data)\n",
        "\n",
        "    def __getitem__(self, idx):\n",
        "        if torch.is_tensor(idx):\n",
        "            idx = idx.tolist()\n",
        "\n",
        "        sample = self.data[idx]\n",
        "        label = self.label[idx]\n",
        "\n",
        "        if self.transform:\n",
        "          if self.phase == 'train':\n",
        "            sample = self.transform(sample)\n",
        "          else: \n",
        "            sample = sample\n",
        "\n",
        "        \n",
        "        return sample, label\n",
        "    \n",
        "# Data-augmentation transformations\n",
        "# compose 4 different transformations from the trochvision lib: random horizontal pixels flip, random vertical pixels flip, random rotation, and random crop of the image\n",
        "\n",
        "contrast_transforms = transforms.Compose([transforms.RandomHorizontalFlip(),\n",
        "                                          transforms.RandomVerticalFlip(),\n",
        "                                          transforms.RandomRotation(180.),\n",
        "                                          transforms.RandomResizedCrop((32,32),scale=(0.8,1.0),ratio=(0.9,1.1)),\n",
        "                                         ])"
      ]
    },
    {
      "cell_type": "code",
      "execution_count": 11,
      "metadata": {
        "id": "X1FBKbIWpXzt"
      },
      "outputs": [],
      "source": [
        "# create the dataset\n",
        "train_dataset = JetSubStructure(data=X_train_pt, labels=Y_train_pt, phase='train', transform=ContrastiveTransformations( base_transforms=contrast_transforms))\n",
        "val_dataset = JetSubStructure(data=X_vali_pt, labels=Y_vali_pt, phase='vali', transform=ContrastiveTransformations( base_transforms=contrast_transforms))\n",
        "test_dataset = JetSubStructure(data=X_test_pt, labels=Y_test_pt, phase='vali')"
      ]
    },
    {
      "cell_type": "code",
      "execution_count": 12,
      "metadata": {
        "colab": {
          "base_uri": "https://localhost:8080/"
        },
        "id": "nGtw59v3pXzu",
        "outputId": "1d7714cf-3066-4c07-b740-5dc93f0b9865"
      },
      "outputs": [
        {
          "output_type": "stream",
          "name": "stderr",
          "text": [
            "/usr/local/lib/python3.7/dist-packages/torch/utils/data/dataloader.py:481: UserWarning: This DataLoader will create 4 worker processes in total. Our suggested max number of worker in current system is 2, which is smaller than what this DataLoader is going to create. Please be aware that excessive worker creation might get DataLoader running slow or even freeze, lower the worker number to avoid potential slowness/freeze if necessary.\n",
            "  cpuset_checked))\n"
          ]
        }
      ],
      "source": [
        "from torch.utils.data import DataLoader\n",
        "# We define a set of data loaders that we can use for various purposes later.\n",
        "train_loader = DataLoader(train_dataset, batch_size=256, shuffle=True, drop_last=True, pin_memory=True, num_workers=4)\n",
        "val_loader = DataLoader(val_dataset, batch_size=256, shuffle=False, drop_last=False, num_workers=4)\n",
        "test_loader = DataLoader(test_dataset, batch_size=256, shuffle=False, drop_last=False, num_workers=4)"
      ]
    },
    {
      "cell_type": "code",
      "execution_count": 13,
      "metadata": {
        "colab": {
          "base_uri": "https://localhost:8080/",
          "height": 163
        },
        "id": "tg3EjzfPpXzu",
        "outputId": "f89e86fc-1a9c-491e-f58b-b42423c7f240"
      },
      "outputs": [
        {
          "output_type": "display_data",
          "data": {
            "text/plain": [
              "<Figure size 576x576 with 1 Axes>"
            ],
            "image/png": "[encoded data removed]"
          },
          "metadata": {
            "needs_background": "light"
          }
        }
      ],
      "source": [
        "# Visualize some examples\n",
        "NUM_IMAGES = 4\n",
        "images = torch.stack([val_dataset[idx][0] for idx in range(NUM_IMAGES)], dim=0)#first is image indx, second is image/label/\n",
        "img_grid = torchvision.utils.make_grid(images, nrow=4, normalize=True, pad_value=0.9)\n",
        "img_grid = img_grid.permute(1, 2, 0)\n",
        "\n",
        "plt.figure(figsize=(8,8))\n",
        "plt.title(\"Image examples of the dataset\")\n",
        "plt.imshow(img_grid)\n",
        "plt.axis('off')\n",
        "plt.show()\n",
        "plt.close()"
      ]
    },
    {
      "cell_type": "markdown",
      "metadata": {
        "id": "1SFt6Mi-pXzv"
      },
      "source": [
        "## Transformers for image classification\n",
        "\n",
        "Transformers have been originally proposed to process sets (un-ordered lists of items) since it is a permutation-equivariant architecture, i.e., producing the same output permuted if the input is permuted. \n",
        "\n",
        "To apply Transformers to sequences (ordered lists), we need to add a positional encoding to the input feature vectors. Hopefully the model will learn by itself how to use this additional information.\n",
        "\n",
        "In this session we will work with images following the procedure proposed by Dosovitskiy et al.  in their paper \"An Image is Worth 16x16 Words: Transformers for Image Recognition at Scale\". \n",
        "\n",
        "Specifically, the Vision Transformer is a model for image classification that views images as sequences of smaller patches. \n",
        "\n",
        "As a preprocessing step, we need to divide the image in a sequence of small patches.\n",
        "\n",
        "Each of those patches is considered to be a \"word\"/\"token\" and projected to a feature space. \n",
        "\n",
        "Then we will add an a spatial encoding (additional paramenters that will encode the position of each patch in the larger image) to each patch. After this preprocessing we can apply a Transformer as usual to this sequence and start training it for our task.\n",
        "\n",
        "Transformenrs can work with high resolution images and learn how to use context from very distant portion of the image.\n",
        "\n",
        "\n",
        "Probably 64 patches of 8 pixels for these small images are a little too much... Try to optimize it!"
      ]
    },
    {
      "cell_type": "code",
      "execution_count": 14,
      "metadata": {
        "id": "Fl_zOWo7pXzv"
      },
      "outputs": [],
      "source": [
        "def img_to_patch(x, patch_size, flatten_channels=True):\n",
        "    # flatten channels is more importatnt as a parameter if we are working with multi channel images\n",
        "    \"\"\"\n",
        "    Inputs:\n",
        "        x - torch.Tensor representing the image of shape [B, C, H, W]\n",
        "        patch_size - Number of pixels per dimension of the patches (integer)\n",
        "        flatten_channels - If True, the patches will be returned in a flattened format\n",
        "                           as a feature vector instead of a image grid.\n",
        "    \"\"\"\n",
        "    B, C, H, W = x.shape\n",
        "    x = x.reshape(B, C, H//patch_size, patch_size, W//patch_size, patch_size)\n",
        "    x = x.permute(0, 2, 4, 1, 3, 5) # [B, H', W', C, p_H, p_W]\n",
        "    x = x.flatten(1,2)              # [B, H'*W', C, p_H, p_W]\n",
        "    if flatten_channels:\n",
        "        x = x.flatten(2,4)          # [B, H'*W', C*p_H*p_W]\n",
        "    return x"
      ]
    },
    {
      "cell_type": "code",
      "execution_count": 15,
      "metadata": {
        "colab": {
          "base_uri": "https://localhost:8080/",
          "height": 216
        },
        "id": "cYZUWE2NpXzv",
        "outputId": "92f6ae05-ebc0-4601-fa8f-f765f15ada7b"
      },
      "outputs": [
        {
          "output_type": "display_data",
          "data": {
            "text/plain": [
              "<Figure size 1008x216 with 4 Axes>"
            ],
            "image/png": "[encoded data removed]"
          },
          "metadata": {
            "needs_background": "light"
          }
        }
      ],
      "source": [
        "img_patches = img_to_patch(images, patch_size=8, flatten_channels=False)\n",
        "\n",
        "fig, ax = plt.subplots(images.shape[0], 1, figsize=(14,3))\n",
        "fig.suptitle(\"Images as input sequences of patches\")\n",
        "for i in range(images.shape[0]):\n",
        "    img_grid = torchvision.utils.make_grid(img_patches[i], nrow=64, normalize=True, pad_value=0.9)\n",
        "    img_grid = img_grid.permute(1, 2, 0)\n",
        "    ax[i].imshow(img_grid)\n",
        "    ax[i].axis('off')\n",
        "plt.show()\n",
        "plt.close()\n"
      ]
    },
    {
      "cell_type": "markdown",
      "metadata": {
        "id": "dXLE9QIDpXzw"
      },
      "source": [
        "Compared to the original images, it is much harder to recognize the objects from those patch lists now. Still, this is the input we provide to the Transformer for classifying the images. The model has to learn itself how it has to combine the patches to recognize the objects. The inductive bias in CNNs that an image is a grid of pixels, is lost in this input format.\n",
        "\n",
        "After we have looked at the preprocessing, we can now start building the Transformer model. \n",
        "\n",
        " Further, we use the Pre-Layer Normalization version of the Transformer blocks proposed by Ruibin Xiong et al. in 2020. \n",
        " \n",
        " The idea is to apply Layer Normalization not in between residual blocks, but instead as a first layer in the residual blocks. This reorganization of the layers supports better gradient flow and removes the necessity of a warm-up stage. "
      ]
    },
    {
      "cell_type": "code",
      "execution_count": 16,
      "metadata": {
        "id": "PnZvnmOtpXzw"
      },
      "outputs": [],
      "source": [
        "class AttentionBlock(nn.Module):\n",
        "    \n",
        "    def __init__(self, embed_dim, hidden_dim, num_heads, dropout=0.0):\n",
        "        \"\"\"\n",
        "        Inputs:\n",
        "            embed_dim - Dimensionality of input and attention feature vectors\n",
        "            hidden_dim - Dimensionality of hidden layer in feed-forward network \n",
        "                         (usually 2-4x larger than embed_dim)\n",
        "            num_heads - Number of heads to use in the Multi-Head Attention block\n",
        "            dropout - Amount of dropout to apply in the feed-forward network\n",
        "        \"\"\"\n",
        "        super().__init__()\n",
        "        \n",
        "        self.layer_norm_1 = nn.LayerNorm(embed_dim)\n",
        "        self.attn = nn.MultiheadAttention(embed_dim, num_heads)\n",
        "        self.layer_norm_2 = nn.LayerNorm(embed_dim)\n",
        "        self.linear = nn.Sequential(\n",
        "            nn.Linear(embed_dim, hidden_dim),\n",
        "            nn.GELU(),\n",
        "            nn.Dropout(dropout),\n",
        "            nn.Linear(hidden_dim, embed_dim),\n",
        "            nn.Dropout(dropout)\n",
        "        )\n",
        "        \n",
        "        \n",
        "    def forward(self, x):\n",
        "        inp_x = self.layer_norm_1(x)\n",
        "        x = x + self.attn(inp_x, inp_x, inp_x)[0]\n",
        "        x = x + self.linear(self.layer_norm_2(x))\n",
        "        return x"
      ]
    },
    {
      "cell_type": "markdown",
      "metadata": {
        "id": "AKDm_DbTpXzx"
      },
      "source": [
        "Now we have all modules ready to build our own Vision Transformer. Besides the Transformer encoder, we need the following modules:\n",
        "\n",
        "- A linear projection layer that maps the input patches to a feature vector of larger size. It is implemented by a simple linear layer that takes each patch independently as input.\n",
        "\n",
        "- A classification token that is added to the input sequence. We will use the output feature vector of the classification token (CLS token in short) for determining the classification prediction.\n",
        "\n",
        "- Learnable positional encodings that are added to the tokens before being processed by the Transformer. Those are needed to learn position-dependent information, and convert the set to a sequence. Since we usually work with a fixed resolution, we can learn the positional encodings instead of having the pattern of sine and cosine functions [Here you can find a good explanation of positional encodings for NLP sequences with varing length](https://kazemnejad.com/blog/transformer_architecture_positional_encoding/).\n",
        "\n",
        "- An MLP head that takes the output feature vector of the CLS token, and maps it to a classification prediction. This is usually implemented by a small feed-forward network or even a single linear layer.\n",
        "\n"
      ]
    },
    {
      "cell_type": "code",
      "execution_count": 17,
      "metadata": {
        "id": "K4yL4Dr0pXzx"
      },
      "outputs": [],
      "source": [
        "class VisionTransformer(nn.Module):\n",
        "    \n",
        "    def __init__(self, embed_dim, hidden_dim, num_channels, num_heads, num_layers, patch_size, num_patches, dropout=0.0):\n",
        "        \"\"\"\n",
        "        Inputs:\n",
        "            embed_dim - Dimensionality of the input feature vectors to the Transformer\n",
        "            hidden_dim - Dimensionality of the hidden layer in the feed-forward networks\n",
        "                         within the Transformer\n",
        "            num_channels - Number of channels of the input (3 for RGB)\n",
        "            num_heads - Number of heads to use in the Multi-Head Attention block\n",
        "            num_layers - Number of layers to use in the Transformer\n",
        "           \n",
        "            patch_size - Number of pixels that the patches have per dimension\n",
        "            num_patches - Maximum number of patches an image can have\n",
        "            dropout - Amount of dropout to apply in the feed-forward network and \n",
        "                      on the input encoding\n",
        "        \"\"\"\n",
        "        super().__init__()\n",
        "        \n",
        "        self.patch_size = patch_size\n",
        "        \n",
        "        # Layers/Networks\n",
        "        self.input_layer = nn.Linear(num_channels*(patch_size**2), embed_dim)\n",
        "        self.transformer = nn.Sequential(*[AttentionBlock(embed_dim, hidden_dim, num_heads, dropout=dropout) for _ in range(num_layers)])\n",
        "        self.mlp_head = nn.Sequential(\n",
        "            nn.LayerNorm(embed_dim),\n",
        "            nn.Linear(embed_dim, 1),# cross entropy already has a softmax integrated while BCE does not. So a sigmoid is added # if **multiclass** this is the part to modify!\n",
        "            nn.Sigmoid()\n",
        "        )\n",
        "        self.dropout = nn.Dropout(dropout)\n",
        "        \n",
        "        # Parameters/Embeddings\n",
        "        self.cls_token = nn.Parameter(torch.randn(1,1,embed_dim))\n",
        "        self.pos_embedding = nn.Parameter(torch.randn(1,1+num_patches,embed_dim))# this is our positional  embedding. It is initialized as a random number but it is learnable so it will be optimized during training.\n",
        "    \n",
        "    \n",
        "    def forward(self, x):\n",
        "        # Preprocess input\n",
        "        x = img_to_patch(x, self.patch_size)\n",
        "        B, T, _ = x.shape\n",
        "        x = self.input_layer(x)\n",
        "        \n",
        "        # Add CLS token and positional encoding\n",
        "        cls_token = self.cls_token.repeat(B, 1, 1)\n",
        "        x = torch.cat([cls_token, x], dim=1)\n",
        "        x = x + self.pos_embedding[:,:T+1]\n",
        "        \n",
        "        # Apply Transforrmer\n",
        "        x = self.dropout(x)\n",
        "        x = x.transpose(0, 1)\n",
        "        x = self.transformer(x)\n",
        "        \n",
        "        # Perform classification prediction\n",
        "        cls = x[0]\n",
        "        out = self.mlp_head(cls)\n",
        "        return out"
      ]
    },
    {
      "cell_type": "code",
      "execution_count": 18,
      "metadata": {
        "id": "BEuVeSUDpXzy"
      },
      "outputs": [],
      "source": [
        "\n",
        "model_kwargs={\n",
        "                                'embed_dim': 64,\n",
        "                                'hidden_dim': 128,\n",
        "                                'num_heads': 8,\n",
        "                                'num_layers':4,\n",
        "                                'patch_size': 8,\n",
        "                                'num_channels': 1,\n",
        "                                'num_patches': 64,\n",
        "                                'dropout': 0.30\n",
        "                            }\n",
        "\n",
        "model = VisionTransformer(**model_kwargs)"
      ]
    },
    {
      "cell_type": "code",
      "execution_count": 19,
      "metadata": {
        "colab": {
          "base_uri": "https://localhost:8080/"
        },
        "id": "jegQIsiapXzy",
        "outputId": "745dd16f-07cb-401a-e479-e7eedfdb133f"
      },
      "outputs": [
        {
          "output_type": "stream",
          "name": "stderr",
          "text": [
            "/usr/local/lib/python3.7/dist-packages/torch/utils/data/dataloader.py:481: UserWarning: This DataLoader will create 4 worker processes in total. Our suggested max number of worker in current system is 2, which is smaller than what this DataLoader is going to create. Please be aware that excessive worker creation might get DataLoader running slow or even freeze, lower the worker number to avoid potential slowness/freeze if necessary.\n",
            "  cpuset_checked))\n"
          ]
        },
        {
          "output_type": "stream",
          "name": "stdout",
          "text": [
            "torch.Size([256, 1, 32, 32])\n",
            "torch.Size([256])\n"
          ]
        }
      ],
      "source": [
        "xb,yb=next(iter(val_loader))\n",
        "print(xb.shape)\n",
        "print(yb.shape)"
      ]
    },
    {
      "cell_type": "code",
      "execution_count": 20,
      "metadata": {
        "id": "sPr_jZPkpXzz"
      },
      "outputs": [],
      "source": [
        "out=model(xb)"
      ]
    },
    {
      "cell_type": "code",
      "execution_count": 21,
      "metadata": {
        "colab": {
          "base_uri": "https://localhost:8080/"
        },
        "id": "e20UeL0-pXzz",
        "outputId": "3f2ae848-2512-4d4b-97e5-d4b22c78001b"
      },
      "outputs": [
        {
          "output_type": "stream",
          "name": "stdout",
          "text": [
            "torch.Size([256, 1])\n"
          ]
        }
      ],
      "source": [
        "print(out.shape)"
      ]
    },
    {
      "cell_type": "code",
      "execution_count": 22,
      "metadata": {
        "colab": {
          "base_uri": "https://localhost:8080/"
        },
        "id": "W8K_vk2hpXzz",
        "outputId": "38fb8c80-4b06-4f1c-9168-d5914ed1cf40"
      },
      "outputs": [
        {
          "output_type": "execute_result",
          "data": {
            "text/plain": [
              "tensor([1., 0., 1., 0., 0., 1., 0., 1., 1., 1., 0., 1., 0., 0., 1., 1., 1., 0.,\n",
              "        0., 1., 1., 1., 1., 0., 0., 1., 1., 1., 1., 1., 0., 0., 0., 1., 0., 0.,\n",
              "        1., 0., 0., 0., 1., 1., 1., 0., 1., 0., 1., 1., 0., 0., 1., 1., 0., 1.,\n",
              "        0., 0., 1., 0., 0., 1., 1., 0., 0., 0., 1., 1., 0., 1., 0., 1., 0., 0.,\n",
              "        0., 0., 1., 1., 1., 0., 1., 1., 0., 1., 0., 1., 0., 0., 0., 1., 0., 0.,\n",
              "        0., 0., 0., 0., 0., 0., 0., 0., 1., 0., 0., 1., 0., 1., 0., 0., 1., 1.,\n",
              "        0., 0., 1., 0., 1., 0., 0., 1., 0., 1., 0., 1., 1., 1., 0., 0., 1., 0.,\n",
              "        0., 0., 1., 1., 1., 1., 0., 0., 1., 1., 1., 1., 0., 1., 0., 0., 0., 1.,\n",
              "        0., 0., 0., 1., 1., 1., 1., 0., 1., 1., 0., 1., 1., 1., 1., 0., 0., 0.,\n",
              "        1., 1., 0., 0., 0., 0., 0., 1., 1., 1., 1., 1., 0., 0., 0., 0., 0., 1.,\n",
              "        0., 0., 0., 0., 1., 0., 0., 0., 1., 1., 1., 1., 0., 1., 0., 0., 1., 1.,\n",
              "        0., 1., 0., 0., 0., 1., 1., 0., 0., 0., 1., 1., 1., 1., 1., 1., 0., 0.,\n",
              "        1., 0., 0., 0., 1., 0., 1., 0., 0., 1., 1., 0., 0., 0., 1., 1., 1., 0.,\n",
              "        0., 0., 1., 0., 1., 1., 0., 1., 1., 1., 0., 0., 0., 0., 0., 0., 1., 0.,\n",
              "        1., 0., 0., 1.])"
            ]
          },
          "metadata": {},
          "execution_count": 22
        }
      ],
      "source": [
        "yb"
      ]
    },
    {
      "cell_type": "code",
      "execution_count": 23,
      "metadata": {
        "colab": {
          "base_uri": "https://localhost:8080/"
        },
        "id": "YXXGV9kupXz0",
        "outputId": "00eddddd-802d-4c7b-d8c8-b1aa2bc63437"
      },
      "outputs": [
        {
          "output_type": "stream",
          "name": "stdout",
          "text": [
            "VisionTransformer(\n",
            "  (input_layer): Linear(in_features=64, out_features=64, bias=True)\n",
            "  (transformer): Sequential(\n",
            "    (0): AttentionBlock(\n",
            "      (layer_norm_1): LayerNorm((64,), eps=1e-05, elementwise_affine=True)\n",
            "      (attn): MultiheadAttention(\n",
            "        (out_proj): NonDynamicallyQuantizableLinear(in_features=64, out_features=64, bias=True)\n",
            "      )\n",
            "      (layer_norm_2): LayerNorm((64,), eps=1e-05, elementwise_affine=True)\n",
            "      (linear): Sequential(\n",
            "        (0): Linear(in_features=64, out_features=128, bias=True)\n",
            "        (1): GELU()\n",
            "        (2): Dropout(p=0.3, inplace=False)\n",
            "        (3): Linear(in_features=128, out_features=64, bias=True)\n",
            "        (4): Dropout(p=0.3, inplace=False)\n",
            "      )\n",
            "    )\n",
            "    (1): AttentionBlock(\n",
            "      (layer_norm_1): LayerNorm((64,), eps=1e-05, elementwise_affine=True)\n",
            "      (attn): MultiheadAttention(\n",
            "        (out_proj): NonDynamicallyQuantizableLinear(in_features=64, out_features=64, bias=True)\n",
            "      )\n",
            "      (layer_norm_2): LayerNorm((64,), eps=1e-05, elementwise_affine=True)\n",
            "      (linear): Sequential(\n",
            "        (0): Linear(in_features=64, out_features=128, bias=True)\n",
            "        (1): GELU()\n",
            "        (2): Dropout(p=0.3, inplace=False)\n",
            "        (3): Linear(in_features=128, out_features=64, bias=True)\n",
            "        (4): Dropout(p=0.3, inplace=False)\n",
            "      )\n",
            "    )\n",
            "    (2): AttentionBlock(\n",
            "      (layer_norm_1): LayerNorm((64,), eps=1e-05, elementwise_affine=True)\n",
            "      (attn): MultiheadAttention(\n",
            "        (out_proj): NonDynamicallyQuantizableLinear(in_features=64, out_features=64, bias=True)\n",
            "      )\n",
            "      (layer_norm_2): LayerNorm((64,), eps=1e-05, elementwise_affine=True)\n",
            "      (linear): Sequential(\n",
            "        (0): Linear(in_features=64, out_features=128, bias=True)\n",
            "        (1): GELU()\n",
            "        (2): Dropout(p=0.3, inplace=False)\n",
            "        (3): Linear(in_features=128, out_features=64, bias=True)\n",
            "        (4): Dropout(p=0.3, inplace=False)\n",
            "      )\n",
            "    )\n",
            "    (3): AttentionBlock(\n",
            "      (layer_norm_1): LayerNorm((64,), eps=1e-05, elementwise_affine=True)\n",
            "      (attn): MultiheadAttention(\n",
            "        (out_proj): NonDynamicallyQuantizableLinear(in_features=64, out_features=64, bias=True)\n",
            "      )\n",
            "      (layer_norm_2): LayerNorm((64,), eps=1e-05, elementwise_affine=True)\n",
            "      (linear): Sequential(\n",
            "        (0): Linear(in_features=64, out_features=128, bias=True)\n",
            "        (1): GELU()\n",
            "        (2): Dropout(p=0.3, inplace=False)\n",
            "        (3): Linear(in_features=128, out_features=64, bias=True)\n",
            "        (4): Dropout(p=0.3, inplace=False)\n",
            "      )\n",
            "    )\n",
            "  )\n",
            "  (mlp_head): Sequential(\n",
            "    (0): LayerNorm((64,), eps=1e-05, elementwise_affine=True)\n",
            "    (1): Linear(in_features=64, out_features=1, bias=True)\n",
            "    (2): Sigmoid()\n",
            "  )\n",
            "  (dropout): Dropout(p=0.3, inplace=False)\n",
            ")\n",
            "----------------------------------------------------------------\n",
            "        Layer (type)               Output Shape         Param #\n",
            "================================================================\n",
            "            Linear-1               [-1, 16, 64]           4,160\n",
            "           Dropout-2               [-1, 17, 64]               0\n",
            "         LayerNorm-3                [-1, 2, 64]             128\n",
            "MultiheadAttention-4  [[-1, 2, 64], [-1, 17, 17]]               0\n",
            "         LayerNorm-5                [-1, 2, 64]             128\n",
            "            Linear-6               [-1, 2, 128]           8,320\n",
            "              GELU-7               [-1, 2, 128]               0\n",
            "           Dropout-8               [-1, 2, 128]               0\n",
            "            Linear-9                [-1, 2, 64]           8,256\n",
            "          Dropout-10                [-1, 2, 64]               0\n",
            "   AttentionBlock-11                [-1, 2, 64]               0\n",
            "        LayerNorm-12                [-1, 2, 64]             128\n",
            "MultiheadAttention-13  [[-1, 2, 64], [-1, 17, 17]]               0\n",
            "        LayerNorm-14                [-1, 2, 64]             128\n",
            "           Linear-15               [-1, 2, 128]           8,320\n",
            "             GELU-16               [-1, 2, 128]               0\n",
            "          Dropout-17               [-1, 2, 128]               0\n",
            "           Linear-18                [-1, 2, 64]           8,256\n",
            "          Dropout-19                [-1, 2, 64]               0\n",
            "   AttentionBlock-20                [-1, 2, 64]               0\n",
            "        LayerNorm-21                [-1, 2, 64]             128\n",
            "MultiheadAttention-22  [[-1, 2, 64], [-1, 17, 17]]               0\n",
            "        LayerNorm-23                [-1, 2, 64]             128\n",
            "           Linear-24               [-1, 2, 128]           8,320\n",
            "             GELU-25               [-1, 2, 128]               0\n",
            "          Dropout-26               [-1, 2, 128]               0\n",
            "           Linear-27                [-1, 2, 64]           8,256\n",
            "          Dropout-28                [-1, 2, 64]               0\n",
            "   AttentionBlock-29                [-1, 2, 64]               0\n",
            "        LayerNorm-30                [-1, 2, 64]             128\n",
            "MultiheadAttention-31  [[-1, 2, 64], [-1, 17, 17]]               0\n",
            "        LayerNorm-32                [-1, 2, 64]             128\n",
            "           Linear-33               [-1, 2, 128]           8,320\n",
            "             GELU-34               [-1, 2, 128]               0\n",
            "          Dropout-35               [-1, 2, 128]               0\n",
            "           Linear-36                [-1, 2, 64]           8,256\n",
            "          Dropout-37                [-1, 2, 64]               0\n",
            "   AttentionBlock-38                [-1, 2, 64]               0\n",
            "        LayerNorm-39                   [-1, 64]             128\n",
            "           Linear-40                    [-1, 1]              65\n",
            "          Sigmoid-41                    [-1, 1]               0\n",
            "================================================================\n",
            "Total params: 71,681\n",
            "Trainable params: 71,681\n",
            "Non-trainable params: 0\n",
            "----------------------------------------------------------------\n",
            "Input size (MB): 0.00\n",
            "Forward/backward pass size (MB): 1.07\n",
            "Params size (MB): 0.27\n",
            "Estimated Total Size (MB): 1.35\n",
            "----------------------------------------------------------------\n"
          ]
        }
      ],
      "source": [
        "\n",
        "print(model)\n",
        "\n",
        "from torchsummary import summary\n",
        "if torch.cuda.is_available():\n",
        "  summary(model.cuda(), input_size=(1,32,32))\n",
        "else:\n",
        "  summary(model, input_size=(1,32,32))"
      ]
    },
    {
      "cell_type": "code",
      "execution_count": 24,
      "metadata": {
        "colab": {
          "base_uri": "https://localhost:8080/"
        },
        "id": "4mIzEu_2pXz0",
        "outputId": "aee17c7f-bd2f-42cd-87ce-af90de27913a"
      },
      "outputs": [
        {
          "output_type": "stream",
          "name": "stdout",
          "text": [
            "The model is in the:  cpu\n",
            "now the model is in the:  cuda:0\n"
          ]
        }
      ],
      "source": [
        "#loss \n",
        "loss_func = nn.BCELoss() #binary cross entropy loss\n",
        "\n",
        "#metric accuracy\n",
        "def accuracy(out, yb):\n",
        "    preds = out.cpu().reshape(-1).detach().numpy().round()\n",
        "    return (preds == yb.cpu().detach().numpy()).mean()\n",
        "\n",
        "metric_func = accuracy\n",
        "\n",
        "# optim\n",
        "from torch import optim\n",
        "opt = optim.Adam(model.parameters(), lr=1e-3)\n",
        "lr_scheduler = optim.lr_scheduler.MultiStepLR(opt, milestones=[25,50,80], gamma=0.2)\n",
        "\n",
        "# scheduler for step decay lr schedule\n",
        "#scheduler = optim.lr_scheduler.StepLR(opt, 10, gamma=0.1, last_epoch=-1, verbose=True)\n",
        "\n",
        "# move the model into the GPU\n",
        "model.to('cpu')\n",
        "print('The model is in the: ', next(model.parameters()).device)\n",
        "model.to(device)\n",
        "print('now the model is in the: ', next(model.parameters()).device)"
      ]
    },
    {
      "cell_type": "code",
      "execution_count": 25,
      "metadata": {
        "id": "-igtZOZkpXz1"
      },
      "outputs": [],
      "source": [
        "#Checkpoints (to save model parameters during training)\n",
        "class SaveBestModel:\n",
        "    def __init__(self, best_valid_loss=float('inf')): #object initialized with best_loss = +infinite\n",
        "        self.best_valid_loss = best_valid_loss\n",
        "        \n",
        "    def __call__(\n",
        "        self, current_valid_loss, \n",
        "        epoch, model, optimizer, criterion, metric,\n",
        "    ):\n",
        "        if current_valid_loss < self.best_valid_loss:\n",
        "            self.best_valid_loss = current_valid_loss\n",
        "            print(f\"\\nBest validation loss: {self.best_valid_loss}\")\n",
        "            print(f\"\\nSaving best model for epoch: {epoch+1}\\n\")\n",
        "            # method to save a model (the state_dict: a python dictionary object that \n",
        "            # maps each layer to its parameter tensor) and other useful parametrers\n",
        "            # see: https://pytorch.org/tutorials/beginner/saving_loading_models.html\n",
        "            torch.save({\n",
        "                'epoch': epoch+1,\n",
        "                'model_state_dict': model.state_dict(),\n",
        "                'optimizer_state_dict': optimizer.state_dict(),\n",
        "                'loss': criterion,\n",
        "                'metric': metric,\n",
        "                }, 'best_model.pth')"
      ]
    },
    {
      "cell_type": "code",
      "execution_count": null,
      "metadata": {
        "colab": {
          "base_uri": "https://localhost:8080/"
        },
        "id": "xFU7LwBIpXz1",
        "outputId": "30f18fbe-2a82-44d7-83ce-38fdccb63fff"
      },
      "outputs": [
        {
          "output_type": "stream",
          "name": "stderr",
          "text": [
            "/usr/local/lib/python3.7/dist-packages/torch/utils/data/dataloader.py:481: UserWarning: This DataLoader will create 4 worker processes in total. Our suggested max number of worker in current system is 2, which is smaller than what this DataLoader is going to create. Please be aware that excessive worker creation might get DataLoader running slow or even freeze, lower the worker number to avoid potential slowness/freeze if necessary.\n",
            "  cpuset_checked))\n"
          ]
        },
        {
          "output_type": "stream",
          "name": "stdout",
          "text": [
            "\n",
            "Best validation loss: 0.7179849781095982\n",
            "\n",
            "Saving best model for epoch: 1\n",
            "\n",
            "epoch: 1, time(s): 10.96, train loss: 0.697497, train metric: 0.515795, vali loss: 0.717985, vali metric: 0.512012,  lr : 1.00e-03\n",
            "\n",
            "Best validation loss: 0.5894642099738121\n",
            "\n",
            "Saving best model for epoch: 2\n",
            "\n",
            "epoch: 2, time(s): 10.87, train loss: 0.682137, train metric: 0.556471, vali loss: 0.589464, vali metric: 0.746289,  lr : 1.00e-03\n",
            "\n",
            "Best validation loss: 0.5573327615857124\n",
            "\n",
            "Saving best model for epoch: 3\n",
            "\n",
            "epoch: 3, time(s): 9.35, train loss: 0.647966, train metric: 0.625170, vali loss: 0.557333, vali metric: 0.731836,  lr : 1.00e-03\n",
            "epoch: 4, time(s): 7.36, train loss: 0.622178, train metric: 0.664062, vali loss: 0.608960, vali metric: 0.654834,  lr : 1.00e-03\n",
            "\n",
            "Best validation loss: 0.5380793958902359\n",
            "\n",
            "Saving best model for epoch: 5\n",
            "\n",
            "epoch: 5, time(s): 7.39, train loss: 0.615753, train metric: 0.666525, vali loss: 0.538079, vali metric: 0.743457,  lr : 1.00e-03\n",
            "\n",
            "Best validation loss: 0.5341639146208763\n",
            "\n",
            "Saving best model for epoch: 6\n",
            "\n",
            "epoch: 6, time(s): 7.23, train loss: 0.608925, train metric: 0.675696, vali loss: 0.534164, vali metric: 0.737012,  lr : 1.00e-03\n",
            "epoch: 7, time(s): 7.31, train loss: 0.595528, train metric: 0.688349, vali loss: 0.565318, vali metric: 0.717920,  lr : 1.00e-03\n",
            "\n",
            "Best validation loss: 0.5245625395327806\n",
            "\n",
            "Saving best model for epoch: 8\n",
            "\n",
            "epoch: 8, time(s): 7.25, train loss: 0.585693, train metric: 0.691236, vali loss: 0.524563, vali metric: 0.742041,  lr : 1.00e-03\n",
            "\n",
            "Best validation loss: 0.522406816482544\n",
            "\n",
            "Saving best model for epoch: 9\n",
            "\n",
            "epoch: 9, time(s): 7.34, train loss: 0.582567, train metric: 0.698794, vali loss: 0.522407, vali metric: 0.741699,  lr : 1.00e-03\n",
            "\n",
            "Best validation loss: 0.5094433687627316\n",
            "\n",
            "Saving best model for epoch: 10\n",
            "\n",
            "epoch: 10, time(s): 7.56, train loss: 0.575720, train metric: 0.708475, vali loss: 0.509443, vali metric: 0.753564,  lr : 1.00e-03\n",
            "epoch: 11, time(s): 7.32, train loss: 0.580997, train metric: 0.702021, vali loss: 0.534479, vali metric: 0.726807,  lr : 1.00e-03\n",
            "\n",
            "Best validation loss: 0.49048330821096897\n",
            "\n",
            "Saving best model for epoch: 12\n",
            "\n",
            "epoch: 12, time(s): 7.34, train loss: 0.569447, train metric: 0.706182, vali loss: 0.490483, vali metric: 0.756494,  lr : 1.00e-03\n",
            "epoch: 13, time(s): 7.71, train loss: 0.571926, train metric: 0.709069, vali loss: 0.494412, vali metric: 0.756348,  lr : 1.00e-03\n"
          ]
        }
      ],
      "source": [
        "#training loop\n",
        "\n",
        "epochs = 100\n",
        "\n",
        "import time\n",
        "\n",
        "save_best_model = SaveBestModel()\n",
        "\n",
        "# lists to save loss and metric history\n",
        "hist_loss = []\n",
        "hist_metric = []\n",
        "hist_vloss = []\n",
        "hist_vmetric = []\n",
        "\n",
        "#loop over epochs\n",
        "for epoch in range(epochs):\n",
        "    t0 = time.time()\n",
        "\n",
        "    #training step\n",
        "    model.train()\n",
        "\n",
        "    train_loss = 0.0\n",
        "    train_metric = 0.0\n",
        "    counter = 0\n",
        "    for xb, yb in train_loader: #takes a batch from the train dataloader \n",
        "        counter += 1 \n",
        "        xb=xb.type(torch.float).to(device) #move troch tensors to device (cpu or GPU)\n",
        "        yb=yb.type(torch.float).to(device)\n",
        "        \n",
        "        pred = model(xb) #get prediction for batch\n",
        "        loss = loss_func(pred, torch.unsqueeze(yb,1)) #compute loss\n",
        "        metric = metric_func(pred, yb) #compute metric\n",
        "\n",
        "        train_loss += loss.item() #update total loss\n",
        "        train_metric += metric.item() #update total metric\n",
        "\n",
        "        # backpropagation\n",
        "        loss.backward()\n",
        "        # update weights\n",
        "        opt.step()\n",
        "        # set to zero gradients for the next step\n",
        "        opt.zero_grad()\n",
        " \n",
        "    # normalize loss and metric by number of batches\n",
        "    train_loss = train_loss/counter\n",
        "    train_metric = train_metric/counter\n",
        "\n",
        "    # update history\n",
        "    hist_loss.append(train_loss)\n",
        "    hist_metric.append(train_metric)\n",
        "\n",
        "\n",
        "    # evaluation setp (same as trainign but w/o backpropagation)\n",
        "    model.eval()\n",
        "\n",
        "    vali_loss = 0.0\n",
        "    vali_metric = 0.0\n",
        "    counter = 0\n",
        "    with torch.no_grad():\n",
        "      for xb, yb in val_loader:\n",
        "        counter += 1\n",
        "        xb=xb.type(torch.float).to(device)\n",
        "        yb=yb.type(torch.float).to(device)\n",
        "        pred = model(xb)\n",
        "        vloss = loss_func(pred, torch.unsqueeze(yb,1))\n",
        "        vmetric = metric_func(pred, yb)\n",
        "        vali_loss += vloss.item()\n",
        "        vali_metric += vmetric.item()\n",
        "        \n",
        "    vali_loss = vali_loss/counter\n",
        "    vali_metric = vali_metric/counter    \n",
        "\n",
        "    hist_vloss.append(vali_loss)\n",
        "    hist_vmetric.append(vali_metric)\n",
        "\n",
        "    #save best model\n",
        "    save_best_model(vali_loss, epoch, model, opt, loss_func, metric_func)   \n",
        "\n",
        "    elapsed_time = time.time()-t0\n",
        "    current_lr = lr_scheduler.get_last_lr()[0]\n",
        "    print(\"epoch: %d, time(s): %.2f, train loss: %.6f, train metric: %.6f, vali loss: %.6f, vali metric: %.6f,  lr : %1.2e\" % (epoch+1, elapsed_time, train_loss, train_metric, vali_loss, vali_metric,current_lr))\n",
        "\n",
        "    # update learning rate schedule\n",
        "    lr_scheduler.step()"
      ]
    },
    {
      "cell_type": "code",
      "execution_count": null,
      "metadata": {
        "id": "G-g2o9P1pXz2"
      },
      "outputs": [],
      "source": [
        "plt.figure(figsize=(10, 7))\n",
        "plt.subplot(1,2,1)\n",
        "plt.plot(range(1,len(hist_loss)+1), hist_loss, color='green', linestyle='-', label='train loss')\n",
        "plt.plot(range(1,len(hist_vloss)+1), hist_vloss, color='blue', linestyle='-', label='validation loss')\n",
        "plt.xlabel('Epochs')\n",
        "plt.ylabel('Loss')\n",
        "plt.legend()\n",
        "plt.subplot(1,2,2)\n",
        "plt.plot(range(1,len(hist_metric)+1), hist_metric,  color='green', linestyle='-', label='train metric')\n",
        "plt.plot(range(1,len(hist_vmetric)+1),hist_vmetric, color='blue', linestyle='-', label='validation metric')\n",
        "plt.xlabel('Epochs')\n",
        "plt.ylabel('Metric')\n",
        "plt.legend()"
      ]
    },
    {
      "cell_type": "code",
      "source": [
        ""
      ],
      "metadata": {
        "id": "ljtFX1QWrbPp"
      },
      "execution_count": null,
      "outputs": []
    }
  ],
  "metadata": {
    "accelerator": "GPU",
    "colab": {
      "collapsed_sections": [],
      "name": "AML_2022_5_VisionTransformer.ipynb",
      "provenance": [],
      "include_colab_link": true
    },
    "kernelspec": {
      "display_name": "default:Python",
      "language": "python",
      "name": "conda-env-default-py"
    },
    "language_info": {
      "codemirror_mode": {
        "name": "ipython",
        "version": 3
      },
      "file_extension": ".py",
      "mimetype": "text/x-python",
      "name": "python",
      "nbconvert_exporter": "python",
      "pygments_lexer": "ipython3",
      "version": "3.9.7"
    }
  },
  "nbformat": 4,
  "nbformat_minor": 0
}