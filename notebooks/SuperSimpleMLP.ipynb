{
  "cells": [
    {
      "cell_type": "markdown",
      "metadata": {
        "id": "view-in-github",
        "colab_type": "text"
      },
      "source": [
        "<a href=\"https://colab.research.google.com/github/stefanogiagu/corso_AML_2022/blob/main/notebooks/SuperSimpleMLP.ipynb\" target=\"_parent\"><img src=\"https://colab.research.google.com/assets/colab-badge.svg\" alt=\"Open In Colab\"/></a>"
      ]
    },
    {
      "cell_type": "code",
      "execution_count": null,
      "metadata": {
        "id": "q_cd7xkhhQo6"
      },
      "outputs": [],
      "source": [
        "# Implementation of a basic pytroch MLP shallow architecture\n",
        "# Stefano Giagu - v1.0 - 9.2.2022"
      ]
    },
    {
      "cell_type": "code",
      "execution_count": 1,
      "metadata": {
        "id": "F6cJhPLThtRq"
      },
      "outputs": [],
      "source": [
        "import numpy as np\n",
        "import matplotlib.pyplot as plt\n",
        "from scipy.stats import norm"
      ]
    },
    {
      "cell_type": "code",
      "execution_count": 2,
      "metadata": {
        "colab": {
          "base_uri": "https://localhost:8080/"
        },
        "id": "V3rnBiO-nwPM",
        "outputId": "bcc5b475-d0ba-4cd4-ab0b-cd63bb254842"
      },
      "outputs": [
        {
          "output_type": "stream",
          "name": "stdout",
          "text": [
            "1.10.0+cu111\n",
            "0.11.1+cu111\n"
          ]
        }
      ],
      "source": [
        "import torch\n",
        "import torchvision\n",
        "\n",
        "print(torch.__version__)\n",
        "print(torchvision.__version__)"
      ]
    },
    {
      "cell_type": "code",
      "execution_count": 3,
      "metadata": {
        "colab": {
          "base_uri": "https://localhost:8080/"
        },
        "id": "ZL2plVoan5H6",
        "outputId": "979fb896-773f-4947-c519-4b82c45a9403"
      },
      "outputs": [
        {
          "output_type": "stream",
          "name": "stdout",
          "text": [
            "Computation device: cpu\n",
            "\n"
          ]
        }
      ],
      "source": [
        "if torch.cuda.is_available():\n",
        "  print(torch.cuda.device_count())\n",
        "  print(torch.cuda.get_device_name(0))\n",
        "\n",
        "device = ('cuda' if torch.cuda.is_available() else 'cpu')\n",
        "print(f\"Computation device: {device}\\n\")"
      ]
    },
    {
      "cell_type": "code",
      "execution_count": 4,
      "metadata": {
        "colab": {
          "base_uri": "https://localhost:8080/"
        },
        "id": "1F3TrSrLuRJW",
        "outputId": "7c5374b5-464f-48b9-b3b2-842e2ce4104c"
      },
      "outputs": [
        {
          "output_type": "stream",
          "name": "stdout",
          "text": [
            "(2560, 4)\n",
            "(2560,)\n",
            "(640, 4)\n",
            "(640,)\n",
            "(800, 4)\n",
            "(800,)\n"
          ]
        }
      ],
      "source": [
        "# toy dataset generated with numpy\n",
        "# 4 uncorrelated features gaussian distributed and with different means\n",
        "\n",
        "features_S = np.random.normal(loc=[1.,2.,3.,4.], scale=0.3, size=(2000,4))\n",
        "features_B = np.random.normal(loc=[1.5,2.2,3.,4.2], scale=0.3, size=(2000,4))\n",
        "labels_S = np.zeros(shape=(2000))\n",
        "labels_B = np.ones(shape=(2000))\n",
        "\n",
        "X = np.concatenate((features_S, features_B), axis=0)\n",
        "Y = np.concatenate((labels_S, labels_B), axis=0)\n",
        "\n",
        "# divide the dataset in train and test\n",
        "from sklearn.model_selection import train_test_split\n",
        "\n",
        "X_train, X_test, Y_train, Y_test = train_test_split(X, Y, test_size=0.2, random_state=12345)\n",
        "X_train, X_vali, Y_train, Y_vali = train_test_split(X_train, Y_train, test_size=0.2, random_state=456789)\n",
        "print(X_train.shape)\n",
        "print(Y_train.shape)\n",
        "print(X_vali.shape)\n",
        "print(Y_vali.shape)\n",
        "print(X_test.shape)\n",
        "print(Y_test.shape)"
      ]
    },
    {
      "cell_type": "code",
      "execution_count": 5,
      "metadata": {
        "colab": {
          "base_uri": "https://localhost:8080/"
        },
        "id": "u1Lymch5XTw8",
        "outputId": "0e4ac02b-8e4e-49b2-b997-91421717ae85"
      },
      "outputs": [
        {
          "output_type": "stream",
          "name": "stdout",
          "text": [
            "torch.Size([2560, 4])\n",
            "torch.Size([2560])\n",
            "torch.Size([640, 4])\n",
            "torch.Size([640])\n",
            "torch.Size([800, 4])\n",
            "torch.Size([800])\n"
          ]
        }
      ],
      "source": [
        "# transform the numpy arrays to pytorch tensors\n",
        "\n",
        "X_train_pt = torch.Tensor(X_train).float()\n",
        "Y_train_pt = torch.Tensor(Y_train).float()\n",
        "X_vali_pt = torch.Tensor(X_vali).float()\n",
        "Y_vali_pt = torch.Tensor(Y_vali).float()\n",
        "X_test_pt = torch.Tensor(X_test).float()\n",
        "Y_test_pt = torch.Tensor(Y_test).float()\n",
        "\n",
        "\n",
        "print(X_train_pt.shape)\n",
        "print(Y_train_pt.shape)\n",
        "print(X_vali_pt.shape)\n",
        "print(Y_vali_pt.shape)\n",
        "print(X_test_pt.shape)\n",
        "print(Y_test_pt.shape)\n",
        "\n",
        "# create a poytorch dataloader (a python iterable that allows to iterate among sample's events \n",
        "# mini-batch it, reshuffle at every epoch, etc...)\n",
        "from torch.utils.data import TensorDataset, DataLoader\n",
        "\n",
        "dataset_train = TensorDataset(X_train_pt, Y_train_pt) \n",
        "dataloader_train = DataLoader(dataset_train, batch_size=32, shuffle=True) \n",
        "\n",
        "dataset_vali = TensorDataset(X_vali_pt, Y_vali_pt) \n",
        "dataloader_vali = DataLoader(dataset_vali, batch_size=32, shuffle=True) "
      ]
    },
    {
      "cell_type": "code",
      "source": [
        "# example of iteration through the dataloader\n",
        "\n",
        "train_features, train_labels = next(iter(dataloader_train))\n",
        "\n",
        "print(f\"Feature batch shape: {train_features.size()}\")\n",
        "print(f\"Labels batch shape: {train_labels.size()}\")\n",
        "\n",
        "an_event = train_features[0].squeeze()\n",
        "a_label = train_labels[0]\n",
        "\n",
        "print(f\"Feature: {an_event}\")\n",
        "print(f\"Label: {a_label}\")"
      ],
      "metadata": {
        "colab": {
          "base_uri": "https://localhost:8080/"
        },
        "id": "hzLJyiBNvZVg",
        "outputId": "79f64e48-dce6-4ea6-d13b-57cd2db45f37"
      },
      "execution_count": 7,
      "outputs": [
        {
          "output_type": "stream",
          "name": "stdout",
          "text": [
            "Feature batch shape: torch.Size([32, 4])\n",
            "Labels batch shape: torch.Size([32])\n",
            "Feature: tensor([1.5602, 2.5550, 3.6824, 4.1874])\n",
            "Label: 1.0\n"
          ]
        }
      ]
    },
    {
      "cell_type": "code",
      "execution_count": 8,
      "metadata": {
        "id": "At2pTSb5uJ0O"
      },
      "outputs": [],
      "source": [
        "from torch import nn\n",
        "import torch.nn.functional as F\n",
        "\n",
        "# architetture: MLP shallow with a dense layer with 20 neurons\n",
        "class ShallowMLP(nn.Module):\n",
        "  def __init__(self):\n",
        "    super(ShallowMLP, self).__init__()\n",
        "    \n",
        "    #torch.nn.Linear(in_features, out_features, bias=True, device=None, dtype=None)\n",
        "    #Linear in pytroch is the equivalent of Dense in keras\n",
        "    self.layer1 = nn.Linear(4, 20)\n",
        "    self.activ1 = nn.ReLU()\n",
        "    self.layer2 = nn.Linear(20, 1)\n",
        "    self.activ2 = nn.Sigmoid()\n",
        "    \n",
        "  def forward(self, x):\n",
        "    out = self.layer1(x)\n",
        "    out = self.activ1(out)\n",
        "    out = self.layer2(out)\n",
        "    out = self.activ2(out)\n",
        "    return out"
      ]
    },
    {
      "cell_type": "code",
      "execution_count": 9,
      "metadata": {
        "colab": {
          "base_uri": "https://localhost:8080/"
        },
        "id": "CW_NlvdnuRJZ",
        "outputId": "09de44be-82a6-43f7-993d-76f5c5e2f169"
      },
      "outputs": [
        {
          "output_type": "stream",
          "name": "stdout",
          "text": [
            "Requirement already satisfied: torchsummary in /usr/local/lib/python3.7/dist-packages (1.5.1)\n"
          ]
        }
      ],
      "source": [
        "%pip install torchsummary"
      ]
    },
    {
      "cell_type": "code",
      "execution_count": 10,
      "metadata": {
        "colab": {
          "base_uri": "https://localhost:8080/"
        },
        "id": "uaLMNMzt1TAK",
        "outputId": "571ca1ed-eb32-499a-ce14-b9f726142bc9"
      },
      "outputs": [
        {
          "output_type": "stream",
          "name": "stdout",
          "text": [
            "ShallowMLP(\n",
            "  (layer1): Linear(in_features=4, out_features=20, bias=True)\n",
            "  (activ1): ReLU()\n",
            "  (layer2): Linear(in_features=20, out_features=1, bias=True)\n",
            "  (activ2): Sigmoid()\n",
            ")\n",
            "----------------------------------------------------------------\n",
            "        Layer (type)               Output Shape         Param #\n",
            "================================================================\n",
            "            Linear-1                [-1, 1, 20]             100\n",
            "              ReLU-2                [-1, 1, 20]               0\n",
            "            Linear-3                 [-1, 1, 1]              21\n",
            "           Sigmoid-4                 [-1, 1, 1]               0\n",
            "================================================================\n",
            "Total params: 121\n",
            "Trainable params: 121\n",
            "Non-trainable params: 0\n",
            "----------------------------------------------------------------\n",
            "Input size (MB): 0.00\n",
            "Forward/backward pass size (MB): 0.00\n",
            "Params size (MB): 0.00\n",
            "Estimated Total Size (MB): 0.00\n",
            "----------------------------------------------------------------\n"
          ]
        }
      ],
      "source": [
        "model = ShallowMLP()\n",
        "print(model)\n",
        "\n",
        "from torchsummary import summary\n",
        "if torch.cuda.is_available():\n",
        "  summary(model.cuda(), input_size=(1,4))\n",
        "else:\n",
        "  summary(model, input_size=(1,4))"
      ]
    },
    {
      "cell_type": "code",
      "execution_count": 11,
      "metadata": {
        "id": "asMI2TET1_wS"
      },
      "outputs": [],
      "source": [
        "#loss \n",
        "loss_func = nn.BCELoss() #binary cross entropy loss\n",
        "\n",
        "#metric accuracy\n",
        "def accuracy(out, yb):\n",
        "    preds = out.reshape(-1).detach().numpy().round()\n",
        "    return (preds == yb.detach().numpy()).mean()\n",
        "\n",
        "metric_func = accuracy\n",
        "\n",
        "# optim\n",
        "from torch import optim\n",
        "opt = optim.SGD(model.parameters(), lr=0.001, momentum=0.9)"
      ]
    },
    {
      "cell_type": "code",
      "execution_count": 12,
      "metadata": {
        "colab": {
          "base_uri": "https://localhost:8080/"
        },
        "id": "qKuuD7vzrdff",
        "outputId": "f82ebb88-f7d1-459f-e064-3841ec46b1c5"
      },
      "outputs": [
        {
          "output_type": "stream",
          "name": "stdout",
          "text": [
            "cpu\n",
            "cpu\n"
          ]
        }
      ],
      "source": [
        "print(next(model.parameters()).device)\n",
        "model.to(device)\n",
        "print(next(model.parameters()).device)"
      ]
    },
    {
      "cell_type": "code",
      "execution_count": 14,
      "metadata": {
        "colab": {
          "base_uri": "https://localhost:8080/"
        },
        "id": "ULR6JSud2M0e",
        "outputId": "840c4d8d-30b3-4ffd-e37b-91108538b7d8"
      },
      "outputs": [
        {
          "output_type": "stream",
          "name": "stdout",
          "text": [
            "epoch: 0, time(s): 0.0999, train loss: 0.686905, train metric: 0.604297, vali loss: 0.676286, vali metric: 0.618750\n",
            "epoch: 1, time(s): 0.0739, train loss: 0.673025, train metric: 0.669141, vali loss: 0.668915, vali metric: 0.589063\n",
            "epoch: 2, time(s): 0.0771, train loss: 0.664196, train metric: 0.659766, vali loss: 0.658191, vali metric: 0.768750\n",
            "epoch: 3, time(s): 0.0821, train loss: 0.655321, train metric: 0.737109, vali loss: 0.649793, vali metric: 0.679688\n",
            "epoch: 4, time(s): 0.0881, train loss: 0.645487, train metric: 0.723437, vali loss: 0.638334, vali metric: 0.776563\n",
            "epoch: 5, time(s): 0.0754, train loss: 0.635411, train metric: 0.739844, vali loss: 0.628850, vali metric: 0.745313\n",
            "epoch: 6, time(s): 0.0853, train loss: 0.624562, train metric: 0.765625, vali loss: 0.617434, vali metric: 0.770312\n",
            "epoch: 7, time(s): 0.0840, train loss: 0.614224, train metric: 0.761719, vali loss: 0.606849, vali metric: 0.757812\n",
            "epoch: 8, time(s): 0.0756, train loss: 0.603310, train metric: 0.747266, vali loss: 0.593142, vali metric: 0.792188\n",
            "epoch: 9, time(s): 0.0917, train loss: 0.591214, train metric: 0.772266, vali loss: 0.581222, vali metric: 0.785937\n",
            "epoch: 10, time(s): 0.0907, train loss: 0.578500, train metric: 0.777734, vali loss: 0.568527, vali metric: 0.789062\n",
            "epoch: 11, time(s): 0.0851, train loss: 0.568491, train metric: 0.771094, vali loss: 0.556185, vali metric: 0.792188\n",
            "epoch: 12, time(s): 0.1066, train loss: 0.555265, train metric: 0.780078, vali loss: 0.543485, vali metric: 0.778125\n",
            "epoch: 13, time(s): 0.0783, train loss: 0.544264, train metric: 0.776563, vali loss: 0.531657, vali metric: 0.787500\n",
            "epoch: 14, time(s): 0.0848, train loss: 0.534487, train metric: 0.785547, vali loss: 0.521720, vali metric: 0.801562\n",
            "epoch: 15, time(s): 0.0840, train loss: 0.525149, train metric: 0.780859, vali loss: 0.514614, vali metric: 0.792188\n",
            "epoch: 16, time(s): 0.0773, train loss: 0.516662, train metric: 0.777734, vali loss: 0.501519, vali metric: 0.801562\n",
            "epoch: 17, time(s): 0.0834, train loss: 0.508588, train metric: 0.783594, vali loss: 0.501210, vali metric: 0.782813\n",
            "epoch: 18, time(s): 0.1007, train loss: 0.501697, train metric: 0.782031, vali loss: 0.491812, vali metric: 0.792188\n",
            "epoch: 19, time(s): 0.0764, train loss: 0.494059, train metric: 0.782031, vali loss: 0.481541, vali metric: 0.803125\n",
            "epoch: 20, time(s): 0.0758, train loss: 0.489420, train metric: 0.786719, vali loss: 0.472437, vali metric: 0.798438\n",
            "epoch: 21, time(s): 0.1015, train loss: 0.484119, train metric: 0.782031, vali loss: 0.468318, vali metric: 0.803125\n",
            "epoch: 22, time(s): 0.0897, train loss: 0.479885, train metric: 0.785156, vali loss: 0.465746, vali metric: 0.803125\n",
            "epoch: 23, time(s): 0.0837, train loss: 0.475299, train metric: 0.784766, vali loss: 0.459587, vali metric: 0.807813\n",
            "epoch: 24, time(s): 0.0805, train loss: 0.472018, train metric: 0.789844, vali loss: 0.454136, vali metric: 0.803125\n",
            "epoch: 25, time(s): 0.0808, train loss: 0.469492, train metric: 0.785937, vali loss: 0.451692, vali metric: 0.806250\n",
            "epoch: 26, time(s): 0.0792, train loss: 0.467483, train metric: 0.780469, vali loss: 0.453691, vali metric: 0.806250\n",
            "epoch: 27, time(s): 0.0798, train loss: 0.462687, train metric: 0.782813, vali loss: 0.443797, vali metric: 0.789062\n",
            "epoch: 28, time(s): 0.0844, train loss: 0.461047, train metric: 0.787109, vali loss: 0.446388, vali metric: 0.806250\n",
            "epoch: 29, time(s): 0.0788, train loss: 0.458646, train metric: 0.785156, vali loss: 0.444276, vali metric: 0.778125\n",
            "epoch: 30, time(s): 0.0838, train loss: 0.458492, train metric: 0.788281, vali loss: 0.440112, vali metric: 0.807813\n",
            "epoch: 31, time(s): 0.0795, train loss: 0.456214, train metric: 0.789062, vali loss: 0.435564, vali metric: 0.801562\n",
            "epoch: 32, time(s): 0.1022, train loss: 0.454513, train metric: 0.792188, vali loss: 0.439600, vali metric: 0.804688\n",
            "epoch: 33, time(s): 0.0849, train loss: 0.453323, train metric: 0.782422, vali loss: 0.431645, vali metric: 0.792188\n",
            "epoch: 34, time(s): 0.0909, train loss: 0.452057, train metric: 0.785937, vali loss: 0.435799, vali metric: 0.806250\n",
            "epoch: 35, time(s): 0.0787, train loss: 0.450718, train metric: 0.788281, vali loss: 0.436667, vali metric: 0.803125\n",
            "epoch: 36, time(s): 0.0937, train loss: 0.453025, train metric: 0.793359, vali loss: 0.432547, vali metric: 0.806250\n",
            "epoch: 37, time(s): 0.0780, train loss: 0.449040, train metric: 0.793750, vali loss: 0.426887, vali metric: 0.796875\n",
            "epoch: 38, time(s): 0.0758, train loss: 0.448207, train metric: 0.796094, vali loss: 0.426085, vali metric: 0.793750\n",
            "epoch: 39, time(s): 0.0880, train loss: 0.449949, train metric: 0.787891, vali loss: 0.432845, vali metric: 0.806250\n",
            "epoch: 40, time(s): 0.0767, train loss: 0.447461, train metric: 0.789844, vali loss: 0.425796, vali metric: 0.798438\n",
            "epoch: 41, time(s): 0.0772, train loss: 0.447082, train metric: 0.790625, vali loss: 0.424635, vali metric: 0.789062\n",
            "epoch: 42, time(s): 0.0876, train loss: 0.446769, train metric: 0.790625, vali loss: 0.428816, vali metric: 0.806250\n",
            "epoch: 43, time(s): 0.0824, train loss: 0.445949, train metric: 0.789453, vali loss: 0.421616, vali metric: 0.795312\n",
            "epoch: 44, time(s): 0.0808, train loss: 0.445013, train metric: 0.796484, vali loss: 0.422841, vali metric: 0.801562\n",
            "epoch: 45, time(s): 0.0796, train loss: 0.444204, train metric: 0.794531, vali loss: 0.419864, vali metric: 0.800000\n",
            "epoch: 46, time(s): 0.0907, train loss: 0.444103, train metric: 0.796875, vali loss: 0.419836, vali metric: 0.801562\n",
            "epoch: 47, time(s): 0.0755, train loss: 0.443573, train metric: 0.794922, vali loss: 0.418478, vali metric: 0.800000\n",
            "epoch: 48, time(s): 0.0775, train loss: 0.443888, train metric: 0.791016, vali loss: 0.422895, vali metric: 0.809375\n",
            "epoch: 49, time(s): 0.0904, train loss: 0.444172, train metric: 0.793359, vali loss: 0.418720, vali metric: 0.796875\n",
            "epoch: 50, time(s): 0.0753, train loss: 0.440928, train metric: 0.795703, vali loss: 0.432619, vali metric: 0.803125\n",
            "epoch: 51, time(s): 0.0780, train loss: 0.441606, train metric: 0.796094, vali loss: 0.416363, vali metric: 0.796875\n",
            "epoch: 52, time(s): 0.0796, train loss: 0.443223, train metric: 0.790625, vali loss: 0.415890, vali metric: 0.796875\n",
            "epoch: 53, time(s): 0.0792, train loss: 0.444390, train metric: 0.798828, vali loss: 0.426361, vali metric: 0.809375\n",
            "epoch: 54, time(s): 0.0805, train loss: 0.441099, train metric: 0.796094, vali loss: 0.415753, vali metric: 0.792188\n",
            "epoch: 55, time(s): 0.0797, train loss: 0.442331, train metric: 0.796094, vali loss: 0.414363, vali metric: 0.798438\n",
            "epoch: 56, time(s): 0.0738, train loss: 0.440162, train metric: 0.789453, vali loss: 0.417960, vali metric: 0.803125\n",
            "epoch: 57, time(s): 0.0818, train loss: 0.440420, train metric: 0.791406, vali loss: 0.419405, vali metric: 0.807813\n",
            "epoch: 58, time(s): 0.0754, train loss: 0.439594, train metric: 0.797266, vali loss: 0.414810, vali metric: 0.803125\n",
            "epoch: 59, time(s): 0.0895, train loss: 0.442243, train metric: 0.795312, vali loss: 0.449211, vali metric: 0.792188\n",
            "epoch: 60, time(s): 0.0788, train loss: 0.444002, train metric: 0.794922, vali loss: 0.412370, vali metric: 0.795312\n",
            "epoch: 61, time(s): 0.0743, train loss: 0.438174, train metric: 0.797656, vali loss: 0.413896, vali metric: 0.801562\n",
            "epoch: 62, time(s): 0.0791, train loss: 0.438161, train metric: 0.795312, vali loss: 0.411559, vali metric: 0.796875\n",
            "epoch: 63, time(s): 0.0786, train loss: 0.437856, train metric: 0.794141, vali loss: 0.420567, vali metric: 0.815625\n",
            "epoch: 64, time(s): 0.0900, train loss: 0.439030, train metric: 0.801562, vali loss: 0.426307, vali metric: 0.801562\n",
            "epoch: 65, time(s): 0.0810, train loss: 0.438777, train metric: 0.792188, vali loss: 0.410559, vali metric: 0.798438\n",
            "epoch: 66, time(s): 0.0796, train loss: 0.442954, train metric: 0.793359, vali loss: 0.414796, vali metric: 0.806250\n",
            "epoch: 67, time(s): 0.0745, train loss: 0.436764, train metric: 0.794531, vali loss: 0.416470, vali metric: 0.810937\n",
            "epoch: 68, time(s): 0.0779, train loss: 0.439103, train metric: 0.795703, vali loss: 0.415149, vali metric: 0.807813\n",
            "epoch: 69, time(s): 0.0827, train loss: 0.436334, train metric: 0.798438, vali loss: 0.427551, vali metric: 0.804688\n",
            "epoch: 70, time(s): 0.0761, train loss: 0.436145, train metric: 0.799219, vali loss: 0.410372, vali metric: 0.801562\n",
            "epoch: 71, time(s): 0.0846, train loss: 0.435372, train metric: 0.796484, vali loss: 0.412460, vali metric: 0.806250\n",
            "epoch: 72, time(s): 0.0868, train loss: 0.436819, train metric: 0.791406, vali loss: 0.408423, vali metric: 0.798438\n",
            "epoch: 73, time(s): 0.0752, train loss: 0.434672, train metric: 0.800391, vali loss: 0.420534, vali metric: 0.814063\n",
            "epoch: 74, time(s): 0.0767, train loss: 0.438260, train metric: 0.797266, vali loss: 0.418405, vali metric: 0.817187\n",
            "epoch: 75, time(s): 0.0819, train loss: 0.434341, train metric: 0.797656, vali loss: 0.407794, vali metric: 0.803125\n",
            "epoch: 76, time(s): 0.0807, train loss: 0.434257, train metric: 0.796484, vali loss: 0.409798, vali metric: 0.803125\n",
            "epoch: 77, time(s): 0.0786, train loss: 0.435290, train metric: 0.796875, vali loss: 0.413197, vali metric: 0.809375\n",
            "epoch: 78, time(s): 0.0794, train loss: 0.433854, train metric: 0.798828, vali loss: 0.410975, vali metric: 0.810937\n",
            "epoch: 79, time(s): 0.0803, train loss: 0.432965, train metric: 0.798047, vali loss: 0.406007, vali metric: 0.800000\n",
            "epoch: 80, time(s): 0.0748, train loss: 0.432605, train metric: 0.795703, vali loss: 0.406128, vali metric: 0.800000\n",
            "epoch: 81, time(s): 0.0783, train loss: 0.432232, train metric: 0.801953, vali loss: 0.415840, vali metric: 0.815625\n",
            "epoch: 82, time(s): 0.0772, train loss: 0.432602, train metric: 0.806250, vali loss: 0.408272, vali metric: 0.806250\n",
            "epoch: 83, time(s): 0.0744, train loss: 0.432257, train metric: 0.804297, vali loss: 0.405070, vali metric: 0.800000\n",
            "epoch: 84, time(s): 0.0880, train loss: 0.431385, train metric: 0.802344, vali loss: 0.406993, vali metric: 0.803125\n",
            "epoch: 85, time(s): 0.0853, train loss: 0.430655, train metric: 0.792188, vali loss: 0.411381, vali metric: 0.814063\n",
            "epoch: 86, time(s): 0.0738, train loss: 0.432033, train metric: 0.802734, vali loss: 0.404269, vali metric: 0.801562\n",
            "epoch: 87, time(s): 0.0806, train loss: 0.431073, train metric: 0.801172, vali loss: 0.407830, vali metric: 0.801562\n",
            "epoch: 88, time(s): 0.0834, train loss: 0.431063, train metric: 0.804297, vali loss: 0.410919, vali metric: 0.815625\n",
            "epoch: 89, time(s): 0.0788, train loss: 0.429987, train metric: 0.805078, vali loss: 0.405830, vali metric: 0.806250\n",
            "epoch: 90, time(s): 0.0804, train loss: 0.430208, train metric: 0.797266, vali loss: 0.409990, vali metric: 0.814063\n",
            "epoch: 91, time(s): 0.0808, train loss: 0.428498, train metric: 0.800391, vali loss: 0.406353, vali metric: 0.812500\n",
            "epoch: 92, time(s): 0.0774, train loss: 0.428578, train metric: 0.800781, vali loss: 0.403217, vali metric: 0.804688\n",
            "epoch: 93, time(s): 0.0824, train loss: 0.428562, train metric: 0.805859, vali loss: 0.403601, vali metric: 0.801562\n",
            "epoch: 94, time(s): 0.0777, train loss: 0.429219, train metric: 0.803125, vali loss: 0.413200, vali metric: 0.815625\n",
            "epoch: 95, time(s): 0.0731, train loss: 0.428315, train metric: 0.801172, vali loss: 0.409400, vali metric: 0.815625\n",
            "epoch: 96, time(s): 0.0850, train loss: 0.429779, train metric: 0.806641, vali loss: 0.401592, vali metric: 0.803125\n",
            "epoch: 97, time(s): 0.0789, train loss: 0.431679, train metric: 0.798047, vali loss: 0.401711, vali metric: 0.806250\n",
            "epoch: 98, time(s): 0.0838, train loss: 0.429688, train metric: 0.801562, vali loss: 0.416036, vali metric: 0.810937\n",
            "epoch: 99, time(s): 0.0791, train loss: 0.428983, train metric: 0.802344, vali loss: 0.405357, vali metric: 0.814063\n"
          ]
        }
      ],
      "source": [
        "#training\n",
        "import time\n",
        "epochs = 100\n",
        "\n",
        "hist_loss = []\n",
        "hist_metric = []\n",
        "hist_vloss = []\n",
        "hist_vmetric = []\n",
        "\n",
        "for epoch in range(epochs):\n",
        "    t0 = time.time()\n",
        "    \n",
        "    #training step\n",
        "    model.train()\n",
        "    train_loss = 0.0\n",
        "    train_metric = 0.0\n",
        "    counter = 0\n",
        "    for xb, yb in dataloader_train:\n",
        "        counter += 1\n",
        "        xb=xb.type(torch.float).to(device)\n",
        "        yb=yb.type(torch.float).to(device)\n",
        "        pred = model(xb)\n",
        "        loss = loss_func(pred, torch.unsqueeze(yb,1))\n",
        "        metric = metric_func(pred, yb)\n",
        "        train_loss += loss.item()\n",
        "        train_metric += metric.item()\n",
        "\n",
        "        # backpropagation\n",
        "        loss.backward()\n",
        "        opt.step()\n",
        "        opt.zero_grad()\n",
        " \n",
        "    train_loss = train_loss/counter\n",
        "    train_metric = train_metric/counter\n",
        "\n",
        "    hist_loss.append(train_loss)\n",
        "    hist_metric.append(train_metric)\n",
        "\n",
        "    # validation step\n",
        "    model.eval()\n",
        "    vali_loss = 0.0\n",
        "    vali_metric = 0.0\n",
        "    counter = 0\n",
        "    with torch.no_grad():\n",
        "      for xb, yb in dataloader_vali:\n",
        "        counter += 1\n",
        "        xb=xb.type(torch.float).to(device)\n",
        "        yb=yb.type(torch.float).to(device)\n",
        "        pred = model(xb)\n",
        "        vloss = loss_func(pred, torch.unsqueeze(yb,1))\n",
        "        vmetric = metric_func(pred, yb)\n",
        "        vali_loss += vloss.item()\n",
        "        vali_metric += vmetric.item()\n",
        "        \n",
        "    vali_loss = vali_loss/counter\n",
        "    vali_metric = vali_metric/counter    \n",
        "\n",
        "    hist_vloss.append(vali_loss)\n",
        "    hist_vmetric.append(vali_metric)\n",
        "\n",
        "    elapsed_time = time.time()-t0\n",
        "    print(\"epoch: %d, time(s): %.4f, train loss: %.6f, train metric: %.6f, vali loss: %.6f, vali metric: %.6f\" \n",
        "          % (epoch+1, elapsed_time, train_loss, train_metric, vali_loss, vali_metric))"
      ]
    },
    {
      "cell_type": "code",
      "execution_count": 16,
      "metadata": {
        "id": "FZyfz3ZsX5Br",
        "colab": {
          "base_uri": "https://localhost:8080/",
          "height": 459
        },
        "outputId": "e9797d83-5692-4ec9-e092-09e353fe62f2"
      },
      "outputs": [
        {
          "output_type": "execute_result",
          "data": {
            "text/plain": [
              "<matplotlib.legend.Legend at 0x7f827ae9ae50>"
            ]
          },
          "metadata": {},
          "execution_count": 16
        },
        {
          "output_type": "display_data",
          "data": {
            "image/png": "[encoded data removed]",
            "text/plain": [
              "<Figure size 720x504 with 1 Axes>"
            ]
          },
          "metadata": {
            "needs_background": "light"
          }
        }
      ],
      "source": [
        "# plot history \n",
        "plt.figure(figsize=(10, 7))\n",
        "plt.plot(range(1,len(hist_metric)+1),hist_metric, color='green', linestyle='-', label='train metric')\n",
        "plt.plot(range(1,len(hist_vmetric)+1),hist_vmetric, color='blue', linestyle='-', label='validation metric')\n",
        "plt.xlabel('Epochs')\n",
        "plt.ylabel('Metric')\n",
        "plt.legend()"
      ]
    },
    {
      "cell_type": "code",
      "execution_count": 17,
      "metadata": {
        "id": "pURp_75lZZmu",
        "colab": {
          "base_uri": "https://localhost:8080/",
          "height": 462
        },
        "outputId": "84d90990-94ce-44d8-e3e6-2915d6f1feb2"
      },
      "outputs": [
        {
          "output_type": "execute_result",
          "data": {
            "text/plain": [
              "<matplotlib.legend.Legend at 0x7f827ae81b50>"
            ]
          },
          "metadata": {},
          "execution_count": 17
        },
        {
          "output_type": "display_data",
          "data": {
            "image/png": "[encoded data removed]",
            "text/plain": [
              "<Figure size 720x504 with 1 Axes>"
            ]
          },
          "metadata": {
            "needs_background": "light"
          }
        }
      ],
      "source": [
        "plt.figure(figsize=(10, 7))\n",
        "plt.plot(range(1,len(hist_loss)+1), hist_loss, color='green', linestyle='-', label='train loss')\n",
        "plt.plot(range(1,len(hist_vloss)+1), hist_vloss, color='blue', linestyle='-', label='validation loss')\n",
        "plt.xlabel('Epochs')\n",
        "plt.ylabel('Loss')\n",
        "plt.legend()"
      ]
    },
    {
      "cell_type": "code",
      "execution_count": 18,
      "metadata": {
        "id": "Mw_C3GGq2QHa"
      },
      "outputs": [],
      "source": [
        "#test the trained model \n",
        "\n",
        "model.to(torch.device(\"cpu\"))\n",
        "\n",
        "X_test_pt = X_test_pt.type(torch.float).to(torch.device(\"cpu\"))\n",
        "res = model(X_test_pt)"
      ]
    },
    {
      "cell_type": "code",
      "execution_count": 19,
      "metadata": {
        "colab": {
          "base_uri": "https://localhost:8080/"
        },
        "id": "l829A8uyuRJd",
        "outputId": "ba4e0350-2e59-4fdb-996f-a270c9f91dfd"
      },
      "outputs": [
        {
          "output_type": "stream",
          "name": "stdout",
          "text": [
            "Test accuracy:  0.77625\n"
          ]
        }
      ],
      "source": [
        "print('Test accuracy: ',accuracy(res,Y_test_pt))"
      ]
    }
  ],
  "metadata": {
    "colab": {
      "name": "SuperSimpleMLP.ipynb",
      "provenance": [],
      "include_colab_link": true
    },
    "kernelspec": {
      "display_name": "default:Python",
      "language": "python",
      "name": "conda-env-default-py"
    },
    "language_info": {
      "codemirror_mode": {
        "name": "ipython",
        "version": 3
      },
      "file_extension": ".py",
      "mimetype": "text/x-python",
      "name": "python",
      "nbconvert_exporter": "python",
      "pygments_lexer": "ipython3",
      "version": "3.9.7"
    }
  },
  "nbformat": 4,
  "nbformat_minor": 0
}